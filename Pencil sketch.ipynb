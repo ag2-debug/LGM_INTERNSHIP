{
 "cells": [
  {
   "cell_type": "code",
   "execution_count": 1,
   "id": "ff3a57df",
   "metadata": {},
   "outputs": [
    {
     "name": "stdout",
     "output_type": "stream",
     "text": [
      "Requirement already satisfied: opencv-python in c:\\users\\ansh\\anaconda3\\lib\\site-packages (4.5.4.60)\n",
      "Requirement already satisfied: numpy>=1.19.3 in c:\\users\\ansh\\anaconda3\\lib\\site-packages (from opencv-python) (1.20.3)\n",
      "Note: you may need to restart the kernel to use updated packages.\n"
     ]
    }
   ],
   "source": [
    "pip install opencv-python"
   ]
  },
  {
   "cell_type": "code",
   "execution_count": 2,
   "id": "4287e1ab",
   "metadata": {},
   "outputs": [],
   "source": [
    "import cv2\n"
   ]
  },
  {
   "cell_type": "code",
   "execution_count": 14,
   "id": "a10ffa61",
   "metadata": {},
   "outputs": [
    {
     "data": {
      "text/plain": [
       "True"
      ]
     },
     "execution_count": 14,
     "metadata": {},
     "output_type": "execute_result"
    }
   ],
   "source": [
    "import numpy as np\n",
    "import imageio\n",
    "import scipy.ndimage\n",
    "import cv2\n",
    " \n",
    "\n",
    "img = \"Dog.jpg\"\n",
    " \n",
    "\n",
    "def rgb2gray(rgb):\n",
    "    # 2 dimensional array to convert image to sketch\n",
    "    return np.dot(rgb[..., :3], [0.2989, 0.5870, .1140])\n",
    " \n",
    " \n",
    "def dodge(front, back):\n",
    " \n",
    "    # if image is greater than 255 (which is not possible) it will convert it to 255\n",
    "    final_sketch = front*255/(255-back)\n",
    "    final_sketch[final_sketch > 255] = 255\n",
    "    final_sketch[back == 255] = 255\n",
    " \n",
    "    # to convert any suitable existing column to categorical type we will use aspect function\n",
    "    # and uint8 is for 8-bit signed integer\n",
    "    return final_sketch.astype('uint8')\n",
    " \n",
    " \n",
    "ss = imageio.imread(img)\n",
    "gray = rgb2gray(ss)\n",
    " \n",
    "i = 255-gray\n",
    " \n",
    "\n",
    "blur = scipy.ndimage.filters.gaussian_filter(i, sigma=13)\n",
    " \n",
    " \n",
    "\n",
    "r = dodge(blur, gray)\n",
    " \n",
    " \n",
    "cv2.imwrite('Dog.jpg', r)"
   ]
  },
  {
   "cell_type": "code",
   "execution_count": 21,
   "id": "14de5f23",
   "metadata": {},
   "outputs": [
    {
     "data": {
      "text/plain": [
       "True"
      ]
     },
     "execution_count": 21,
     "metadata": {},
     "output_type": "execute_result"
    }
   ],
   "source": [
    "import cv2\n",
    "image = cv2.imread('Dog.jpg')  \n",
    "\n",
    "grey_img = cv2.cvtColor(image, cv2.COLOR_BGR2GRAY)\n",
    "invert = cv2.bitwise_not(grey_img)  \n",
    "blur = cv2.GaussianBlur(invert, (25, 25), 0)\n",
    "invertedblur = cv2.bitwise_not(blur)\n",
    "sketch = cv2.divide(grey_img, invertedblur, scale=250.0)\n",
    "cv2.imwrite(\"sketch.png\", sketch)  "
   ]
  },
  {
   "cell_type": "code",
   "execution_count": null,
   "id": "4ee4e2be",
   "metadata": {},
   "outputs": [],
   "source": []
  },
  {
   "cell_type": "code",
   "execution_count": null,
   "id": "b8074015",
   "metadata": {},
   "outputs": [],
   "source": []
  }
 ],
 "metadata": {
  "kernelspec": {
   "display_name": "Python 3 (ipykernel)",
   "language": "python",
   "name": "python3"
  },
  "language_info": {
   "codemirror_mode": {
    "name": "ipython",
    "version": 3
   },
   "file_extension": ".py",
   "mimetype": "text/x-python",
   "name": "python",
   "nbconvert_exporter": "python",
   "pygments_lexer": "ipython3",
   "version": "3.9.7"
  }
 },
 "nbformat": 4,
 "nbformat_minor": 5
}
